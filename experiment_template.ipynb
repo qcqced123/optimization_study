{
 "cells": [
  {
   "cell_type": "code",
   "id": "initial_id",
   "metadata": {
    "collapsed": true,
    "ExecuteTime": {
     "end_time": "2025-02-18T06:02:59.439821Z",
     "start_time": "2025-02-18T06:02:58.484990Z"
    }
   },
   "source": [
    "import torch\n",
    "import numpy as np\n",
    "import torch.nn as nn\n",
    "import torch.nn.functional as F\n",
    "\n",
    "from torch import Tensor"
   ],
   "outputs": [],
   "execution_count": 1
  },
  {
   "metadata": {
    "ExecuteTime": {
     "end_time": "2025-02-18T06:02:59.471008Z",
     "start_time": "2025-02-18T06:02:59.443844Z"
    }
   },
   "cell_type": "code",
   "source": [
    "\"\"\" set the torch device to mps for using gpu cores in macOS \"\"\"\n",
    "\n",
    "# set the accelerator platform\n",
    "# mps: macOS GPU platform\n",
    "os = \"macOS\"\n",
    "accelerator = None\n",
    "if os == \"macOS\": accelerator = \"mps\" if torch.backends.mps.is_available() else \"cpu\"\n",
    "elif os == \"linux\": accelerator = 'cuda:0' if torch.cuda.is_available() else 'cpu'\n",
    "\n",
    "device = torch.device(accelerator)\n",
    "print(f\"current accelerator is: {device}\")"
   ],
   "id": "9959e427b340b552",
   "outputs": [
    {
     "name": "stdout",
     "output_type": "stream",
     "text": [
      "current accelerator is: mps\n"
     ]
    }
   ],
   "execution_count": 2
  },
  {
   "metadata": {},
   "cell_type": "code",
   "outputs": [],
   "execution_count": null,
   "source": "",
   "id": "64ebb037e7646194"
  }
 ],
 "metadata": {
  "kernelspec": {
   "display_name": "Python 3",
   "language": "python",
   "name": "python3"
  },
  "language_info": {
   "codemirror_mode": {
    "name": "ipython",
    "version": 2
   },
   "file_extension": ".py",
   "mimetype": "text/x-python",
   "name": "python",
   "nbconvert_exporter": "python",
   "pygments_lexer": "ipython2",
   "version": "2.7.6"
  }
 },
 "nbformat": 4,
 "nbformat_minor": 5
}
